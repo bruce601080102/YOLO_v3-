{
 "cells": [
  {
   "cell_type": "code",
   "execution_count": 1,
   "metadata": {
    "collapsed": true
   },
   "outputs": [],
   "source": [
    "#-*- coding: utf-8 -*-\n",
    "import os\n",
    "import numpy as np\n",
    "\n",
    "from yolo.voc_eval import voc_eval   # 注意將voc_eval.py和compute_mAP.py放在同一級目錄下\n",
    "\n",
    "detpath = 'Path to dets txt'   # 各類txt文件路徑\n",
    "detfiles = os.listdir(detpath)\n",
    "\n"
   ]
  },
  {
   "cell_type": "code",
   "execution_count": 2,
   "metadata": {},
   "outputs": [
    {
     "data": {
      "text/plain": [
       "['Main', 'test_xml', 'class', 'cachedir', '存放區txt檔']"
      ]
     },
     "execution_count": 2,
     "metadata": {},
     "output_type": "execute_result"
    }
   ],
   "source": [
    "detfiles"
   ]
  },
  {
   "cell_type": "code",
   "execution_count": 3,
   "metadata": {
    "collapsed": true
   },
   "outputs": [],
   "source": [
    "detfiles = os.listdir(detpath)\n",
    "current_path = os.getcwd()\n",
    "results_path = current_path+\"/Path to dets txt/test_xml\"\n",
    "sub_files = os.listdir(results_path)"
   ]
  },
  {
   "cell_type": "code",
   "execution_count": 4,
   "metadata": {},
   "outputs": [
    {
     "data": {
      "text/plain": [
       "['img25.xml']"
      ]
     },
     "execution_count": 4,
     "metadata": {},
     "output_type": "execute_result"
    }
   ],
   "source": [
    "sub_files"
   ]
  },
  {
   "cell_type": "code",
   "execution_count": 5,
   "metadata": {
    "collapsed": true
   },
   "outputs": [],
   "source": [
    "for i in range(len(sub_files)):\n",
    "    class_name_xml = sub_files[i].split(\".xml\")[0]"
   ]
  },
  {
   "cell_type": "code",
   "execution_count": 6,
   "metadata": {},
   "outputs": [
    {
     "data": {
      "text/plain": [
       "'img25'"
      ]
     },
     "execution_count": 6,
     "metadata": {},
     "output_type": "execute_result"
    }
   ],
   "source": [
    "class_name_xml"
   ]
  },
  {
   "cell_type": "code",
   "execution_count": null,
   "metadata": {
    "collapsed": true
   },
   "outputs": [],
   "source": []
  },
  {
   "cell_type": "code",
   "execution_count": 7,
   "metadata": {
    "collapsed": true
   },
   "outputs": [],
   "source": [
    "classes = ('__background__', # always index 0 數據集類別\n",
    "                  class_name_xml)\n",
    "\n",
    "\n",
    "aps = []      # 保存各類ap\n",
    "recs = []     # 保存recall\n",
    "precs = []    # 保存精度\n",
    "\n",
    "annopath = 'Path to dets txt/test_xml/' + '{:s}.xml'    # annotations的路徑，{:s}.xml方便後面根據圖像名字讀取對應的xml文件\n",
    "imagesetfile = 'Path to dets txt/Main/test.txt'  # 讀取圖像名字列表文件\n",
    "cachedir = 'Path to annotations_cache/'"
   ]
  },
  {
   "cell_type": "code",
   "execution_count": 8,
   "metadata": {},
   "outputs": [
    {
     "data": {
      "text/plain": [
       "['Main', 'test_xml', 'class', 'cachedir', '存放區txt檔']"
      ]
     },
     "execution_count": 8,
     "metadata": {},
     "output_type": "execute_result"
    }
   ],
   "source": [
    "detfiles"
   ]
  },
  {
   "cell_type": "code",
   "execution_count": 9,
   "metadata": {
    "collapsed": true
   },
   "outputs": [],
   "source": [
    "current_path = os.getcwd()\n",
    "results_path = current_path+\"/Path to dets txt/class\"\n",
    "sub_files = os.listdir(results_path)"
   ]
  },
  {
   "cell_type": "code",
   "execution_count": 10,
   "metadata": {
    "collapsed": true
   },
   "outputs": [],
   "source": [
    "for i in range(len(sub_files)):\n",
    "    class_name = sub_files[i].split(\".txt\")[0]"
   ]
  },
  {
   "cell_type": "code",
   "execution_count": 11,
   "metadata": {},
   "outputs": [
    {
     "data": {
      "text/plain": [
       "['方標.txt']"
      ]
     },
     "execution_count": 11,
     "metadata": {},
     "output_type": "execute_result"
    }
   ],
   "source": [
    "sub_files"
   ]
  },
  {
   "cell_type": "code",
   "execution_count": 12,
   "metadata": {},
   "outputs": [
    {
     "data": {
      "text/plain": [
       "'方標'"
      ]
     },
     "execution_count": 12,
     "metadata": {},
     "output_type": "execute_result"
    }
   ],
   "source": [
    "class_name"
   ]
  },
  {
   "cell_type": "code",
   "execution_count": 13,
   "metadata": {
    "collapsed": true
   },
   "outputs": [],
   "source": [
    "import xml.etree.ElementTree as ET\n",
    "import os\n",
    "import pickle\n",
    "import numpy as np\n",
    "\n",
    "def parse_rec(filename):\n",
    "    \"\"\" Parse a PASCAL VOC xml file \"\"\"\n",
    "    tree = ET.parse(filename)\n",
    "    objects = []\n",
    "    for obj in tree.findall('object'):\n",
    "        obj_struct = {}\n",
    "        obj_struct['name'] = obj.find('name').text\n",
    "        obj_struct['pose'] = obj.find('pose').text\n",
    "        obj_struct['truncated'] = int(obj.find('truncated').text)\n",
    "        obj_struct['difficult'] = int(obj.find('difficult').text)\n",
    "        bbox = obj.find('bndbox')\n",
    "        obj_struct['bbox'] = [int(bbox.find('xmin').text),\n",
    "                              int(bbox.find('ymin').text),\n",
    "                              int(bbox.find('xmax').text),\n",
    "                              int(bbox.find('ymax').text)]\n",
    "        objects.append(obj_struct)\n",
    "\n",
    "    return objects\n",
    "\n",
    "def voc_ap(rec, prec, use_07_metric=False):\n",
    "    \"\"\" ap = voc_ap(rec, prec, [use_07_metric])\n",
    "    Compute VOC AP given precision and recall.\n",
    "    If use_07_metric is true, uses the\n",
    "    VOC 07 11 point method (default:False).\n",
    "    \"\"\"\n",
    "    if use_07_metric:\n",
    "        # 11 point metric\n",
    "        ap = 0.\n",
    "        for t in np.arange(0., 1.1, 0.1):\n",
    "            if np.sum(rec >= t) == 0:\n",
    "                p = 0\n",
    "            else:\n",
    "                p = np.max(prec[rec >= t])\n",
    "            ap = ap + p / 11.\n",
    "    else:\n",
    "        # correct AP calculation\n",
    "        # first append sentinel values at the end\n",
    "        mrec = np.concatenate(([0.], rec, [1.]))\n",
    "        mpre = np.concatenate(([0.], prec, [0.]))\n",
    "\n",
    "        # compute the precision envelope\n",
    "        for i in range(mpre.size - 1, 0, -1):\n",
    "            mpre[i - 1] = np.maximum(mpre[i - 1], mpre[i])\n",
    "\n",
    "        # to calculate area under PR curve, look for points\n",
    "        # where X axis (recall) changes value\n",
    "        i = np.where(mrec[1:] != mrec[:-1])[0]\n",
    "\n",
    "        # and sum (\\Delta recall) * prec\n",
    "        ap = np.sum((mrec[i + 1] - mrec[i]) * mpre[i + 1])\n",
    "    return ap"
   ]
  },
  {
   "cell_type": "code",
   "execution_count": 14,
   "metadata": {},
   "outputs": [
    {
     "data": {
      "text/plain": [
       "'Path to annotations_cache/'"
      ]
     },
     "execution_count": 14,
     "metadata": {},
     "output_type": "execute_result"
    }
   ],
   "source": [
    "cachedir"
   ]
  },
  {
   "cell_type": "markdown",
   "metadata": {},
   "source": [
    "# imagesetfile=分類"
   ]
  },
  {
   "cell_type": "code",
   "execution_count": 15,
   "metadata": {},
   "outputs": [
    {
     "data": {
      "text/plain": [
       "'Path to dets txt/Main/test.txt'"
      ]
     },
     "execution_count": 15,
     "metadata": {},
     "output_type": "execute_result"
    }
   ],
   "source": [
    "imagesetfile"
   ]
  },
  {
   "cell_type": "code",
   "execution_count": 16,
   "metadata": {
    "collapsed": true
   },
   "outputs": [],
   "source": [
    "\n",
    "# first load gt\n",
    "# 取真实的标签\n",
    "    # if cachedir不存在就创建一个\n",
    "if not os.path.isdir(cachedir):\n",
    "    os.mkdir(cachedir)\n",
    "cachefile = os.path.join(cachedir, '_annots.pkl')\n",
    "\n"
   ]
  },
  {
   "cell_type": "code",
   "execution_count": 17,
   "metadata": {},
   "outputs": [
    {
     "data": {
      "text/plain": [
       "'Path to annotations_cache/_annots.pkl'"
      ]
     },
     "execution_count": 17,
     "metadata": {},
     "output_type": "execute_result"
    }
   ],
   "source": [
    "cachefile"
   ]
  },
  {
   "cell_type": "code",
   "execution_count": 18,
   "metadata": {
    "collapsed": true
   },
   "outputs": [],
   "source": [
    "with open(imagesetfile, 'r',encoding=\"utf-8\") as f:\n",
    "        lines = f.readlines()  # 读取所有图片名\n",
    "imagenames = [x.strip() for x in lines]  # x.strip()代表去除开头和结尾的'\\n'或者'\\t'\n",
    "\n"
   ]
  },
  {
   "cell_type": "code",
   "execution_count": 19,
   "metadata": {},
   "outputs": [
    {
     "data": {
      "text/plain": [
       "'Path to dets txt/Main/test.txt'"
      ]
     },
     "execution_count": 19,
     "metadata": {},
     "output_type": "execute_result"
    }
   ],
   "source": [
    "imagesetfile"
   ]
  },
  {
   "cell_type": "code",
   "execution_count": 20,
   "metadata": {},
   "outputs": [
    {
     "data": {
      "text/plain": [
       "['img25']"
      ]
     },
     "execution_count": 20,
     "metadata": {},
     "output_type": "execute_result"
    }
   ],
   "source": [
    "imagenames"
   ]
  },
  {
   "cell_type": "code",
   "execution_count": 21,
   "metadata": {},
   "outputs": [
    {
     "data": {
      "text/plain": [
       "'Path to dets txt/test_xml/{:s}.xml'"
      ]
     },
     "execution_count": 21,
     "metadata": {},
     "output_type": "execute_result"
    }
   ],
   "source": [
    "annopath"
   ]
  },
  {
   "cell_type": "code",
   "execution_count": 22,
   "metadata": {
    "collapsed": true
   },
   "outputs": [],
   "source": [
    "# 如果缓存路径对应的文件没有，则读取annotations\n",
    "if not os.path.isfile(cachefile):\n",
    "    # load annotations\n",
    "     # 这是一个字典\n",
    "    recs = {}\n",
    "    for i, imagename in enumerate(imagenames):\n",
    "        # parse_rec用于读取xml文件\n",
    "        recs[imagename] = parse_rec(annopath.format(imagename))\n",
    "        if i % 100 == 0:\n",
    "            print('Reading annotation for {:d}/{:d}'.format(\n",
    "                    i + 1, len(imagenames)))\n",
    "        # save\n",
    "    print('Saving cached annotations to {:s}'.format(cachefile))\n",
    "    with open(cachefile, 'wb') as f:\n",
    "        pickle.dump(recs, f)  # dump是序列化保存，load是序列化解析\n",
    "else:  # 如果已经有了cachefile缓存文件，直接读取\n",
    "    # load\n",
    "    with open(cachefile, 'rb') as f:\n",
    "        try:\n",
    "            recs = pickle.load(f)\n",
    "        except:\n",
    "            recs = pickle.load(f, encoding='bytes')\n",
    "\n"
   ]
  },
  {
   "cell_type": "code",
   "execution_count": 23,
   "metadata": {},
   "outputs": [
    {
     "data": {
      "text/plain": [
       "['img25']"
      ]
     },
     "execution_count": 23,
     "metadata": {},
     "output_type": "execute_result"
    }
   ],
   "source": [
    "imagenames"
   ]
  },
  {
   "cell_type": "code",
   "execution_count": 24,
   "metadata": {},
   "outputs": [
    {
     "data": {
      "text/plain": [
       "{'img25': [{'bbox': [6, 5, 63, 66],\n",
       "   'difficult': 0,\n",
       "   'name': '方標',\n",
       "   'pose': 'Unspecified',\n",
       "   'truncated': 0},\n",
       "  {'bbox': [5, 81, 63, 143],\n",
       "   'difficult': 0,\n",
       "   'name': '方標',\n",
       "   'pose': 'Unspecified',\n",
       "   'truncated': 0},\n",
       "  {'bbox': [7, 154, 61, 209],\n",
       "   'difficult': 0,\n",
       "   'name': '方標',\n",
       "   'pose': 'Unspecified',\n",
       "   'truncated': 0},\n",
       "  {'bbox': [10, 219, 64, 274],\n",
       "   'difficult': 0,\n",
       "   'name': '方標',\n",
       "   'pose': 'Unspecified',\n",
       "   'truncated': 0},\n",
       "  {'bbox': [12, 287, 65, 340],\n",
       "   'difficult': 0,\n",
       "   'name': '方標',\n",
       "   'pose': 'Unspecified',\n",
       "   'truncated': 0},\n",
       "  {'bbox': [76, 6, 133, 65],\n",
       "   'difficult': 0,\n",
       "   'name': '方標',\n",
       "   'pose': 'Unspecified',\n",
       "   'truncated': 0},\n",
       "  {'bbox': [76, 82, 137, 142],\n",
       "   'difficult': 0,\n",
       "   'name': '方標',\n",
       "   'pose': 'Unspecified',\n",
       "   'truncated': 0},\n",
       "  {'bbox': [80, 152, 134, 207],\n",
       "   'difficult': 0,\n",
       "   'name': '方標',\n",
       "   'pose': 'Unspecified',\n",
       "   'truncated': 0},\n",
       "  {'bbox': [80, 216, 133, 272],\n",
       "   'difficult': 0,\n",
       "   'name': '方標',\n",
       "   'pose': 'Unspecified',\n",
       "   'truncated': 0},\n",
       "  {'bbox': [81, 284, 136, 338],\n",
       "   'difficult': 0,\n",
       "   'name': '方標',\n",
       "   'pose': 'Unspecified',\n",
       "   'truncated': 0},\n",
       "  {'bbox': [152, 288, 193, 330],\n",
       "   'difficult': 0,\n",
       "   'name': '方標',\n",
       "   'pose': 'Unspecified',\n",
       "   'truncated': 0},\n",
       "  {'bbox': [155, 342, 193, 378],\n",
       "   'difficult': 0,\n",
       "   'name': '方標',\n",
       "   'pose': 'Unspecified',\n",
       "   'truncated': 0},\n",
       "  {'bbox': [203, 287, 245, 330],\n",
       "   'difficult': 0,\n",
       "   'name': '方標',\n",
       "   'pose': 'Unspecified',\n",
       "   'truncated': 0},\n",
       "  {'bbox': [206, 341, 243, 378],\n",
       "   'difficult': 0,\n",
       "   'name': '方標',\n",
       "   'pose': 'Unspecified',\n",
       "   'truncated': 0},\n",
       "  {'bbox': [256, 286, 297, 330],\n",
       "   'difficult': 0,\n",
       "   'name': '方標',\n",
       "   'pose': 'Unspecified',\n",
       "   'truncated': 0},\n",
       "  {'bbox': [258, 341, 296, 377],\n",
       "   'difficult': 0,\n",
       "   'name': '方標',\n",
       "   'pose': 'Unspecified',\n",
       "   'truncated': 0},\n",
       "  {'bbox': [305, 284, 350, 330],\n",
       "   'difficult': 0,\n",
       "   'name': '方標',\n",
       "   'pose': 'Unspecified',\n",
       "   'truncated': 0},\n",
       "  {'bbox': [309, 341, 345, 377],\n",
       "   'difficult': 0,\n",
       "   'name': '方標',\n",
       "   'pose': 'Unspecified',\n",
       "   'truncated': 0},\n",
       "  {'bbox': [357, 287, 399, 330],\n",
       "   'difficult': 0,\n",
       "   'name': '方標',\n",
       "   'pose': 'Unspecified',\n",
       "   'truncated': 0},\n",
       "  {'bbox': [359, 338, 396, 377],\n",
       "   'difficult': 0,\n",
       "   'name': '方標',\n",
       "   'pose': 'Unspecified',\n",
       "   'truncated': 0},\n",
       "  {'bbox': [407, 287, 450, 331],\n",
       "   'difficult': 0,\n",
       "   'name': '方標',\n",
       "   'pose': 'Unspecified',\n",
       "   'truncated': 0},\n",
       "  {'bbox': [411, 340, 447, 375],\n",
       "   'difficult': 0,\n",
       "   'name': '方標',\n",
       "   'pose': 'Unspecified',\n",
       "   'truncated': 0}]}"
      ]
     },
     "execution_count": 24,
     "metadata": {},
     "output_type": "execute_result"
    }
   ],
   "source": [
    "recs"
   ]
  },
  {
   "cell_type": "code",
   "execution_count": 25,
   "metadata": {
    "collapsed": true
   },
   "outputs": [],
   "source": [
    "class_recs = {}  # 当前类别的标注\n",
    "npos = 0\n",
    "    \n"
   ]
  },
  {
   "cell_type": "code",
   "execution_count": 26,
   "metadata": {
    "collapsed": true
   },
   "outputs": [],
   "source": [
    "classname=class_name"
   ]
  },
  {
   "cell_type": "code",
   "execution_count": 27,
   "metadata": {
    "collapsed": true
   },
   "outputs": [],
   "source": [
    "use_diff=False"
   ]
  },
  {
   "cell_type": "code",
   "execution_count": 28,
   "metadata": {},
   "outputs": [
    {
     "data": {
      "text/plain": [
       "'方標'"
      ]
     },
     "execution_count": 28,
     "metadata": {},
     "output_type": "execute_result"
    }
   ],
   "source": [
    "classname"
   ]
  },
  {
   "cell_type": "code",
   "execution_count": 29,
   "metadata": {},
   "outputs": [
    {
     "name": "stdout",
     "output_type": "stream",
     "text": [
      "img25\n"
     ]
    }
   ],
   "source": [
    "for imagename in imagenames:\n",
    "    print(imagename)"
   ]
  },
  {
   "cell_type": "code",
   "execution_count": 30,
   "metadata": {},
   "outputs": [
    {
     "data": {
      "text/plain": [
       "{'img25': [{'bbox': [6, 5, 63, 66],\n",
       "   'difficult': 0,\n",
       "   'name': '方標',\n",
       "   'pose': 'Unspecified',\n",
       "   'truncated': 0},\n",
       "  {'bbox': [5, 81, 63, 143],\n",
       "   'difficult': 0,\n",
       "   'name': '方標',\n",
       "   'pose': 'Unspecified',\n",
       "   'truncated': 0},\n",
       "  {'bbox': [7, 154, 61, 209],\n",
       "   'difficult': 0,\n",
       "   'name': '方標',\n",
       "   'pose': 'Unspecified',\n",
       "   'truncated': 0},\n",
       "  {'bbox': [10, 219, 64, 274],\n",
       "   'difficult': 0,\n",
       "   'name': '方標',\n",
       "   'pose': 'Unspecified',\n",
       "   'truncated': 0},\n",
       "  {'bbox': [12, 287, 65, 340],\n",
       "   'difficult': 0,\n",
       "   'name': '方標',\n",
       "   'pose': 'Unspecified',\n",
       "   'truncated': 0},\n",
       "  {'bbox': [76, 6, 133, 65],\n",
       "   'difficult': 0,\n",
       "   'name': '方標',\n",
       "   'pose': 'Unspecified',\n",
       "   'truncated': 0},\n",
       "  {'bbox': [76, 82, 137, 142],\n",
       "   'difficult': 0,\n",
       "   'name': '方標',\n",
       "   'pose': 'Unspecified',\n",
       "   'truncated': 0},\n",
       "  {'bbox': [80, 152, 134, 207],\n",
       "   'difficult': 0,\n",
       "   'name': '方標',\n",
       "   'pose': 'Unspecified',\n",
       "   'truncated': 0},\n",
       "  {'bbox': [80, 216, 133, 272],\n",
       "   'difficult': 0,\n",
       "   'name': '方標',\n",
       "   'pose': 'Unspecified',\n",
       "   'truncated': 0},\n",
       "  {'bbox': [81, 284, 136, 338],\n",
       "   'difficult': 0,\n",
       "   'name': '方標',\n",
       "   'pose': 'Unspecified',\n",
       "   'truncated': 0},\n",
       "  {'bbox': [152, 288, 193, 330],\n",
       "   'difficult': 0,\n",
       "   'name': '方標',\n",
       "   'pose': 'Unspecified',\n",
       "   'truncated': 0},\n",
       "  {'bbox': [155, 342, 193, 378],\n",
       "   'difficult': 0,\n",
       "   'name': '方標',\n",
       "   'pose': 'Unspecified',\n",
       "   'truncated': 0},\n",
       "  {'bbox': [203, 287, 245, 330],\n",
       "   'difficult': 0,\n",
       "   'name': '方標',\n",
       "   'pose': 'Unspecified',\n",
       "   'truncated': 0},\n",
       "  {'bbox': [206, 341, 243, 378],\n",
       "   'difficult': 0,\n",
       "   'name': '方標',\n",
       "   'pose': 'Unspecified',\n",
       "   'truncated': 0},\n",
       "  {'bbox': [256, 286, 297, 330],\n",
       "   'difficult': 0,\n",
       "   'name': '方標',\n",
       "   'pose': 'Unspecified',\n",
       "   'truncated': 0},\n",
       "  {'bbox': [258, 341, 296, 377],\n",
       "   'difficult': 0,\n",
       "   'name': '方標',\n",
       "   'pose': 'Unspecified',\n",
       "   'truncated': 0},\n",
       "  {'bbox': [305, 284, 350, 330],\n",
       "   'difficult': 0,\n",
       "   'name': '方標',\n",
       "   'pose': 'Unspecified',\n",
       "   'truncated': 0},\n",
       "  {'bbox': [309, 341, 345, 377],\n",
       "   'difficult': 0,\n",
       "   'name': '方標',\n",
       "   'pose': 'Unspecified',\n",
       "   'truncated': 0},\n",
       "  {'bbox': [357, 287, 399, 330],\n",
       "   'difficult': 0,\n",
       "   'name': '方標',\n",
       "   'pose': 'Unspecified',\n",
       "   'truncated': 0},\n",
       "  {'bbox': [359, 338, 396, 377],\n",
       "   'difficult': 0,\n",
       "   'name': '方標',\n",
       "   'pose': 'Unspecified',\n",
       "   'truncated': 0},\n",
       "  {'bbox': [407, 287, 450, 331],\n",
       "   'difficult': 0,\n",
       "   'name': '方標',\n",
       "   'pose': 'Unspecified',\n",
       "   'truncated': 0},\n",
       "  {'bbox': [411, 340, 447, 375],\n",
       "   'difficult': 0,\n",
       "   'name': '方標',\n",
       "   'pose': 'Unspecified',\n",
       "   'truncated': 0}]}"
      ]
     },
     "execution_count": 30,
     "metadata": {},
     "output_type": "execute_result"
    }
   ],
   "source": [
    "recs"
   ]
  },
  {
   "cell_type": "code",
   "execution_count": null,
   "metadata": {
    "collapsed": true
   },
   "outputs": [],
   "source": []
  },
  {
   "cell_type": "code",
   "execution_count": 31,
   "metadata": {
    "collapsed": true
   },
   "outputs": [],
   "source": [
    "for imagename in imagenames:\n",
    "    # recs[imagename]是保存了图片的object里面的所有属性，是个字典\n",
    "    # 值保留指定类别的项\n",
    "    R = [obj for obj in recs[imagename] if obj['name'] == classname]\n",
    "    # 获得所有的bbox,里面保存了xmin,ymin,xmax,ymax\n",
    "    bbox = np.array([x['bbox'] for x in R])\n",
    "    if use_diff:  # 如果使用difficult(难检测的),所有的值都是false\n",
    "        difficult = np.array([False for x in R]).astype(np.bool)\n",
    "    else:  # 否则里面的内容有1有0\n",
    "        difficult = np.array([x['difficult'] for x in R]).astype(np.bool)\n",
    "        # len(R)就是当前类别的个数\n",
    "        # 开辟一个全为False长度是len(R)的数组\n",
    "        det = [False] * len(R)\n",
    "        # 我测试~difficult的意思是取相反数之后再减1，这是什么意思。。。\n",
    "        npos = npos + sum(~difficult)\n",
    "        class_recs[imagename] = {'bbox': bbox,\n",
    "                                 'difficult': difficult,\n",
    "                                 'det': det}"
   ]
  },
  {
   "cell_type": "code",
   "execution_count": 32,
   "metadata": {},
   "outputs": [
    {
     "data": {
      "text/plain": [
       "22"
      ]
     },
     "execution_count": 32,
     "metadata": {},
     "output_type": "execute_result"
    }
   ],
   "source": [
    "npos"
   ]
  },
  {
   "cell_type": "code",
   "execution_count": 33,
   "metadata": {},
   "outputs": [
    {
     "data": {
      "text/plain": [
       "{'img25': {'bbox': array([[  6,   5,  63,  66],\n",
       "         [  5,  81,  63, 143],\n",
       "         [  7, 154,  61, 209],\n",
       "         [ 10, 219,  64, 274],\n",
       "         [ 12, 287,  65, 340],\n",
       "         [ 76,   6, 133,  65],\n",
       "         [ 76,  82, 137, 142],\n",
       "         [ 80, 152, 134, 207],\n",
       "         [ 80, 216, 133, 272],\n",
       "         [ 81, 284, 136, 338],\n",
       "         [152, 288, 193, 330],\n",
       "         [155, 342, 193, 378],\n",
       "         [203, 287, 245, 330],\n",
       "         [206, 341, 243, 378],\n",
       "         [256, 286, 297, 330],\n",
       "         [258, 341, 296, 377],\n",
       "         [305, 284, 350, 330],\n",
       "         [309, 341, 345, 377],\n",
       "         [357, 287, 399, 330],\n",
       "         [359, 338, 396, 377],\n",
       "         [407, 287, 450, 331],\n",
       "         [411, 340, 447, 375]]),\n",
       "  'det': [False,\n",
       "   False,\n",
       "   False,\n",
       "   False,\n",
       "   False,\n",
       "   False,\n",
       "   False,\n",
       "   False,\n",
       "   False,\n",
       "   False,\n",
       "   False,\n",
       "   False,\n",
       "   False,\n",
       "   False,\n",
       "   False,\n",
       "   False,\n",
       "   False,\n",
       "   False,\n",
       "   False,\n",
       "   False,\n",
       "   False,\n",
       "   False],\n",
       "  'difficult': array([False, False, False, False, False, False, False, False, False,\n",
       "         False, False, False, False, False, False, False, False, False,\n",
       "         False, False, False, False])}}"
      ]
     },
     "execution_count": 33,
     "metadata": {},
     "output_type": "execute_result"
    }
   ],
   "source": [
    "class_recs"
   ]
  },
  {
   "cell_type": "code",
   "execution_count": 34,
   "metadata": {
    "scrolled": true
   },
   "outputs": [
    {
     "data": {
      "text/plain": [
       "{'bbox': array([[  6,   5,  63,  66],\n",
       "        [  5,  81,  63, 143],\n",
       "        [  7, 154,  61, 209],\n",
       "        [ 10, 219,  64, 274],\n",
       "        [ 12, 287,  65, 340],\n",
       "        [ 76,   6, 133,  65],\n",
       "        [ 76,  82, 137, 142],\n",
       "        [ 80, 152, 134, 207],\n",
       "        [ 80, 216, 133, 272],\n",
       "        [ 81, 284, 136, 338],\n",
       "        [152, 288, 193, 330],\n",
       "        [155, 342, 193, 378],\n",
       "        [203, 287, 245, 330],\n",
       "        [206, 341, 243, 378],\n",
       "        [256, 286, 297, 330],\n",
       "        [258, 341, 296, 377],\n",
       "        [305, 284, 350, 330],\n",
       "        [309, 341, 345, 377],\n",
       "        [357, 287, 399, 330],\n",
       "        [359, 338, 396, 377],\n",
       "        [407, 287, 450, 331],\n",
       "        [411, 340, 447, 375]]),\n",
       " 'det': [False,\n",
       "  False,\n",
       "  False,\n",
       "  False,\n",
       "  False,\n",
       "  False,\n",
       "  False,\n",
       "  False,\n",
       "  False,\n",
       "  False,\n",
       "  False,\n",
       "  False,\n",
       "  False,\n",
       "  False,\n",
       "  False,\n",
       "  False,\n",
       "  False,\n",
       "  False,\n",
       "  False,\n",
       "  False,\n",
       "  False,\n",
       "  False],\n",
       " 'difficult': array([False, False, False, False, False, False, False, False, False,\n",
       "        False, False, False, False, False, False, False, False, False,\n",
       "        False, False, False, False])}"
      ]
     },
     "execution_count": 34,
     "metadata": {},
     "output_type": "execute_result"
    }
   ],
   "source": [
    "class_recs[imagename]"
   ]
  },
  {
   "cell_type": "code",
   "execution_count": 35,
   "metadata": {},
   "outputs": [
    {
     "data": {
      "text/plain": [
       "'方標'"
      ]
     },
     "execution_count": 35,
     "metadata": {},
     "output_type": "execute_result"
    }
   ],
   "source": [
    "classname"
   ]
  },
  {
   "cell_type": "code",
   "execution_count": 36,
   "metadata": {},
   "outputs": [
    {
     "data": {
      "text/plain": [
       "'Path to dets txt'"
      ]
     },
     "execution_count": 36,
     "metadata": {},
     "output_type": "execute_result"
    }
   ],
   "source": [
    "detpath"
   ]
  },
  {
   "cell_type": "code",
   "execution_count": 37,
   "metadata": {
    "collapsed": true
   },
   "outputs": [],
   "source": [
    "detpath1='Path to dets txt/class/{}'\n",
    "classes = ('__background__', # always index 0 數據集類別\n",
    "                  '方標')\n",
    "current_path = os.getcwd()\n",
    "results_path = current_path+\"/Path to dets txt/class\"\n",
    "sub_files = os.listdir(results_path)\n",
    "for i in range(len(sub_files)):\n",
    "    class_name = sub_files[i].split(\".txt\")[0]\n",
    "    class_name1 = sub_files[i]"
   ]
  },
  {
   "cell_type": "code",
   "execution_count": 38,
   "metadata": {},
   "outputs": [
    {
     "data": {
      "text/plain": [
       "'方標.txt'"
      ]
     },
     "execution_count": 38,
     "metadata": {},
     "output_type": "execute_result"
    }
   ],
   "source": [
    "class_name1"
   ]
  },
  {
   "cell_type": "code",
   "execution_count": 39,
   "metadata": {
    "collapsed": true
   },
   "outputs": [],
   "source": [
    "detfile = detpath1.format(class_name1)"
   ]
  },
  {
   "cell_type": "code",
   "execution_count": 40,
   "metadata": {},
   "outputs": [
    {
     "data": {
      "text/plain": [
       "'Path to dets txt/class/方標.txt'"
      ]
     },
     "execution_count": 40,
     "metadata": {},
     "output_type": "execute_result"
    }
   ],
   "source": [
    "detfile"
   ]
  },
  {
   "cell_type": "code",
   "execution_count": 41,
   "metadata": {
    "collapsed": true
   },
   "outputs": [],
   "source": [
    "with open(detfile, 'r') as f:\n",
    "    lines = f.readlines()"
   ]
  },
  {
   "cell_type": "code",
   "execution_count": 42,
   "metadata": {
    "scrolled": true
   },
   "outputs": [
    {
     "data": {
      "text/plain": [
       "['img25 0.8451144 5.5   4.   62.5  66. \\n',\n",
       " 'img25 0.7953983 75.5   5.5 132.5  64.5\\n',\n",
       " 'img25 0.8512358 4.5  80.5  63.5 143.5\\n',\n",
       " 'img25 0.7870911 75.   81.5 137.  142.5\\n',\n",
       " 'img25 0.8575897 6.5 153.5  59.5 208.5\\n',\n",
       " 'img25 0.7727245 80.  151.  134.  207. \\n',\n",
       " 'img25 0.8149486 10.  218.5  64.  273.5\\n',\n",
       " 'img25 0.7784859 79.5 216.  132.5 272. \\n',\n",
       " 'img25 0.8172151 12.  286.5  64.  339.5\\n',\n",
       " 'img25 0.7535235 81.  284.  135.  338. \\n',\n",
       " 'img25 0.8056223 151.5 287.5 192.5 330.5\\n',\n",
       " 'img25 0.9100039 203.  286.5 245.  329.5\\n',\n",
       " 'img25 0.8596696 255.5 285.5 296.5 330.5\\n',\n",
       " 'img25 0.8209495 304.5 284.  349.5 330. \\n',\n",
       " 'img25 0.8392155 357.  286.5 399.  329.5\\n',\n",
       " 'img25 0.7957741 406.5 287.  449.5 331. \\n',\n",
       " 'img25 0.35528556 358.  338.  396.  376. \\n',\n",
       " 'img25 0.530142 204.  341.  244.  377. \\n',\n",
       " 'img25 0.47993383 256.5 340.5 295.5 375.5\\n',\n",
       " 'img25 0.29338586 307.  341.  345.  375. \\n',\n",
       " 'img25 0.3817088 410.5 340.5 447.5 373.5\\n',\n",
       " 'img25 0.21768598 153.  343.5 193.  376.5']"
      ]
     },
     "execution_count": 42,
     "metadata": {},
     "output_type": "execute_result"
    }
   ],
   "source": [
    "lines"
   ]
  },
  {
   "cell_type": "code",
   "execution_count": 43,
   "metadata": {
    "collapsed": true
   },
   "outputs": [],
   "source": [
    "#splitlines = [x.strip().split(' ') for x in lines]\n",
    "splitlines = [x.strip().split(' ') for x in lines]"
   ]
  },
  {
   "cell_type": "code",
   "execution_count": 44,
   "metadata": {},
   "outputs": [
    {
     "data": {
      "text/plain": [
       "[['img25', '0.8451144', '5.5', '', '', '4.', '', '', '62.5', '', '66.'],\n",
       " ['img25', '0.7953983', '75.5', '', '', '5.5', '132.5', '', '64.5'],\n",
       " ['img25', '0.8512358', '4.5', '', '80.5', '', '63.5', '143.5'],\n",
       " ['img25', '0.7870911', '75.', '', '', '81.5', '137.', '', '142.5'],\n",
       " ['img25', '0.8575897', '6.5', '153.5', '', '59.5', '208.5'],\n",
       " ['img25', '0.7727245', '80.', '', '151.', '', '134.', '', '207.'],\n",
       " ['img25', '0.8149486', '10.', '', '218.5', '', '64.', '', '273.5'],\n",
       " ['img25', '0.7784859', '79.5', '216.', '', '132.5', '272.'],\n",
       " ['img25', '0.8172151', '12.', '', '286.5', '', '64.', '', '339.5'],\n",
       " ['img25', '0.7535235', '81.', '', '284.', '', '135.', '', '338.'],\n",
       " ['img25', '0.8056223', '151.5', '287.5', '192.5', '330.5'],\n",
       " ['img25', '0.9100039', '203.', '', '286.5', '245.', '', '329.5'],\n",
       " ['img25', '0.8596696', '255.5', '285.5', '296.5', '330.5'],\n",
       " ['img25', '0.8209495', '304.5', '284.', '', '349.5', '330.'],\n",
       " ['img25', '0.8392155', '357.', '', '286.5', '399.', '', '329.5'],\n",
       " ['img25', '0.7957741', '406.5', '287.', '', '449.5', '331.'],\n",
       " ['img25', '0.35528556', '358.', '', '338.', '', '396.', '', '376.'],\n",
       " ['img25', '0.530142', '204.', '', '341.', '', '244.', '', '377.'],\n",
       " ['img25', '0.47993383', '256.5', '340.5', '295.5', '375.5'],\n",
       " ['img25', '0.29338586', '307.', '', '341.', '', '345.', '', '375.'],\n",
       " ['img25', '0.3817088', '410.5', '340.5', '447.5', '373.5'],\n",
       " ['img25', '0.21768598', '153.', '', '343.5', '193.', '', '376.5']]"
      ]
     },
     "execution_count": 44,
     "metadata": {},
     "output_type": "execute_result"
    }
   ],
   "source": [
    "splitlines"
   ]
  },
  {
   "cell_type": "code",
   "execution_count": 45,
   "metadata": {},
   "outputs": [
    {
     "data": {
      "text/plain": [
       "['a', 1, 2, '', '', 'b', '', 3]"
      ]
     },
     "execution_count": 45,
     "metadata": {},
     "output_type": "execute_result"
    }
   ],
   "source": [
    "x2 = ['a',1,2,'','','b','',3]\n",
    "x2"
   ]
  },
  {
   "cell_type": "code",
   "execution_count": 46,
   "metadata": {},
   "outputs": [
    {
     "data": {
      "text/plain": [
       "['a', 1, 2, 'b', 3]"
      ]
     },
     "execution_count": 46,
     "metadata": {},
     "output_type": "execute_result"
    }
   ],
   "source": [
    "x1 = [i for i in x2 if(len(str(i))!=0)]\n",
    "x1"
   ]
  },
  {
   "cell_type": "code",
   "execution_count": null,
   "metadata": {
    "collapsed": true
   },
   "outputs": [],
   "source": []
  },
  {
   "cell_type": "code",
   "execution_count": 47,
   "metadata": {
    "collapsed": true
   },
   "outputs": [],
   "source": [
    "image_ids = [x[0] for x in splitlines]  # x[0]为名称"
   ]
  },
  {
   "cell_type": "code",
   "execution_count": 48,
   "metadata": {
    "scrolled": true
   },
   "outputs": [
    {
     "data": {
      "text/plain": [
       "['img25',\n",
       " 'img25',\n",
       " 'img25',\n",
       " 'img25',\n",
       " 'img25',\n",
       " 'img25',\n",
       " 'img25',\n",
       " 'img25',\n",
       " 'img25',\n",
       " 'img25',\n",
       " 'img25',\n",
       " 'img25',\n",
       " 'img25',\n",
       " 'img25',\n",
       " 'img25',\n",
       " 'img25',\n",
       " 'img25',\n",
       " 'img25',\n",
       " 'img25',\n",
       " 'img25',\n",
       " 'img25',\n",
       " 'img25']"
      ]
     },
     "execution_count": 48,
     "metadata": {},
     "output_type": "execute_result"
    }
   ],
   "source": [
    "image_ids"
   ]
  },
  {
   "cell_type": "code",
   "execution_count": 49,
   "metadata": {},
   "outputs": [
    {
     "data": {
      "text/plain": [
       "array([0.8451144 , 0.7953983 , 0.8512358 , 0.7870911 , 0.8575897 ,\n",
       "       0.7727245 , 0.8149486 , 0.7784859 , 0.8172151 , 0.7535235 ,\n",
       "       0.8056223 , 0.9100039 , 0.8596696 , 0.8209495 , 0.8392155 ,\n",
       "       0.7957741 , 0.35528556, 0.530142  , 0.47993383, 0.29338586,\n",
       "       0.3817088 , 0.21768598])"
      ]
     },
     "execution_count": 49,
     "metadata": {},
     "output_type": "execute_result"
    }
   ],
   "source": [
    "confidence = np.array([float(x[1]) for x in splitlines])  # x[1]为得分\n",
    "confidence"
   ]
  },
  {
   "cell_type": "code",
   "execution_count": 50,
   "metadata": {
    "collapsed": true
   },
   "outputs": [],
   "source": [
    "splitlines_list=[]"
   ]
  },
  {
   "cell_type": "code",
   "execution_count": 51,
   "metadata": {},
   "outputs": [
    {
     "name": "stdout",
     "output_type": "stream",
     "text": [
      "['img25', '0.8451144', '5.5', '4.', '62.5', '66.']\n",
      "['img25', '0.7953983', '75.5', '5.5', '132.5', '64.5']\n",
      "['img25', '0.8512358', '4.5', '80.5', '63.5', '143.5']\n",
      "['img25', '0.7870911', '75.', '81.5', '137.', '142.5']\n",
      "['img25', '0.8575897', '6.5', '153.5', '59.5', '208.5']\n",
      "['img25', '0.7727245', '80.', '151.', '134.', '207.']\n",
      "['img25', '0.8149486', '10.', '218.5', '64.', '273.5']\n",
      "['img25', '0.7784859', '79.5', '216.', '132.5', '272.']\n",
      "['img25', '0.8172151', '12.', '286.5', '64.', '339.5']\n",
      "['img25', '0.7535235', '81.', '284.', '135.', '338.']\n",
      "['img25', '0.8056223', '151.5', '287.5', '192.5', '330.5']\n",
      "['img25', '0.9100039', '203.', '286.5', '245.', '329.5']\n",
      "['img25', '0.8596696', '255.5', '285.5', '296.5', '330.5']\n",
      "['img25', '0.8209495', '304.5', '284.', '349.5', '330.']\n",
      "['img25', '0.8392155', '357.', '286.5', '399.', '329.5']\n",
      "['img25', '0.7957741', '406.5', '287.', '449.5', '331.']\n",
      "['img25', '0.35528556', '358.', '338.', '396.', '376.']\n",
      "['img25', '0.530142', '204.', '341.', '244.', '377.']\n",
      "['img25', '0.47993383', '256.5', '340.5', '295.5', '375.5']\n",
      "['img25', '0.29338586', '307.', '341.', '345.', '375.']\n",
      "['img25', '0.3817088', '410.5', '340.5', '447.5', '373.5']\n",
      "['img25', '0.21768598', '153.', '343.5', '193.', '376.5']\n"
     ]
    }
   ],
   "source": [
    "for x in splitlines:\n",
    "    splitlines1=[i for i in x if(len(str(i))!=0)]\n",
    "    print(splitlines1)\n",
    "    splitlines_list.append(splitlines1)"
   ]
  },
  {
   "cell_type": "code",
   "execution_count": 52,
   "metadata": {},
   "outputs": [
    {
     "data": {
      "text/plain": [
       "[['img25', '0.8451144', '5.5', '4.', '62.5', '66.'],\n",
       " ['img25', '0.7953983', '75.5', '5.5', '132.5', '64.5'],\n",
       " ['img25', '0.8512358', '4.5', '80.5', '63.5', '143.5'],\n",
       " ['img25', '0.7870911', '75.', '81.5', '137.', '142.5'],\n",
       " ['img25', '0.8575897', '6.5', '153.5', '59.5', '208.5'],\n",
       " ['img25', '0.7727245', '80.', '151.', '134.', '207.'],\n",
       " ['img25', '0.8149486', '10.', '218.5', '64.', '273.5'],\n",
       " ['img25', '0.7784859', '79.5', '216.', '132.5', '272.'],\n",
       " ['img25', '0.8172151', '12.', '286.5', '64.', '339.5'],\n",
       " ['img25', '0.7535235', '81.', '284.', '135.', '338.'],\n",
       " ['img25', '0.8056223', '151.5', '287.5', '192.5', '330.5'],\n",
       " ['img25', '0.9100039', '203.', '286.5', '245.', '329.5'],\n",
       " ['img25', '0.8596696', '255.5', '285.5', '296.5', '330.5'],\n",
       " ['img25', '0.8209495', '304.5', '284.', '349.5', '330.'],\n",
       " ['img25', '0.8392155', '357.', '286.5', '399.', '329.5'],\n",
       " ['img25', '0.7957741', '406.5', '287.', '449.5', '331.'],\n",
       " ['img25', '0.35528556', '358.', '338.', '396.', '376.'],\n",
       " ['img25', '0.530142', '204.', '341.', '244.', '377.'],\n",
       " ['img25', '0.47993383', '256.5', '340.5', '295.5', '375.5'],\n",
       " ['img25', '0.29338586', '307.', '341.', '345.', '375.'],\n",
       " ['img25', '0.3817088', '410.5', '340.5', '447.5', '373.5'],\n",
       " ['img25', '0.21768598', '153.', '343.5', '193.', '376.5']]"
      ]
     },
     "execution_count": 52,
     "metadata": {},
     "output_type": "execute_result"
    }
   ],
   "source": [
    "splitlines_list"
   ]
  },
  {
   "cell_type": "code",
   "execution_count": 53,
   "metadata": {},
   "outputs": [
    {
     "data": {
      "text/plain": [
       "array([[  5.5,   4. ,  62.5,  66. ],\n",
       "       [ 75.5,   5.5, 132.5,  64.5],\n",
       "       [  4.5,  80.5,  63.5, 143.5],\n",
       "       [ 75. ,  81.5, 137. , 142.5],\n",
       "       [  6.5, 153.5,  59.5, 208.5],\n",
       "       [ 80. , 151. , 134. , 207. ],\n",
       "       [ 10. , 218.5,  64. , 273.5],\n",
       "       [ 79.5, 216. , 132.5, 272. ],\n",
       "       [ 12. , 286.5,  64. , 339.5],\n",
       "       [ 81. , 284. , 135. , 338. ],\n",
       "       [151.5, 287.5, 192.5, 330.5],\n",
       "       [203. , 286.5, 245. , 329.5],\n",
       "       [255.5, 285.5, 296.5, 330.5],\n",
       "       [304.5, 284. , 349.5, 330. ],\n",
       "       [357. , 286.5, 399. , 329.5],\n",
       "       [406.5, 287. , 449.5, 331. ],\n",
       "       [358. , 338. , 396. , 376. ],\n",
       "       [204. , 341. , 244. , 377. ],\n",
       "       [256.5, 340.5, 295.5, 375.5],\n",
       "       [307. , 341. , 345. , 375. ],\n",
       "       [410.5, 340.5, 447.5, 373.5],\n",
       "       [153. , 343.5, 193. , 376.5]])"
      ]
     },
     "execution_count": 53,
     "metadata": {},
     "output_type": "execute_result"
    }
   ],
   "source": [
    "BB = np.array([[float(z) for z in x[2:]] for x in splitlines_list])  # x[2]为bbox的4个值\n",
    "BB"
   ]
  },
  {
   "cell_type": "code",
   "execution_count": 54,
   "metadata": {
    "collapsed": true
   },
   "outputs": [],
   "source": [
    "nd = len(image_ids)"
   ]
  },
  {
   "cell_type": "code",
   "execution_count": 55,
   "metadata": {},
   "outputs": [
    {
     "data": {
      "text/plain": [
       "22"
      ]
     },
     "execution_count": 55,
     "metadata": {},
     "output_type": "execute_result"
    }
   ],
   "source": [
    "nd"
   ]
  },
  {
   "cell_type": "code",
   "execution_count": 56,
   "metadata": {
    "collapsed": true
   },
   "outputs": [],
   "source": [
    "tp = np.zeros(nd)\n",
    "fp = np.zeros(nd)"
   ]
  },
  {
   "cell_type": "code",
   "execution_count": 57,
   "metadata": {
    "collapsed": true
   },
   "outputs": [],
   "source": [
    "ovthresh=0.5"
   ]
  },
  {
   "cell_type": "code",
   "execution_count": 58,
   "metadata": {
    "collapsed": true
   },
   "outputs": [],
   "source": [
    "if BB.shape[0] > 0:\n",
    "    # sort by confidence\n",
    "    # 按照分数从大到小排序，返回下标\n",
    "    sorted_ind = np.argsort(-confidence)\n",
    "    # 按照分数从大到小排序，返回分数\n",
    "    # 下面也没有用到该变量，其实sorted_ind得到之后，直接根据confidence[sorted_ind[i]]就可以得到sorted_scores\n",
    "    sorted_scores = np.sort(-confidence)\n",
    "    # 对BB也重排一下\n",
    "    #BB = BB[sorted_ind, :]\n",
    "    BB = BB[sorted_ind]\n",
    "    # image_ids也重排\n",
    "    image_ids = [image_ids[x] for x in sorted_ind]\n",
    "    # 上面这些操作就是为了下标对应起来，后面好操作\n",
    "    # go down dets and mark TPs and FPs\n",
    "    for d in range(nd):\n",
    "        # 由image_ids[d]获取名称。然后得到R\n",
    "        R = class_recs[image_ids[d]]\n",
    "        # dets是检测结果的路径,BB通过dets获取每一行的数据，然后得到对应的BB值(也就是4个属性)\n",
    "        #bb = BB[d, :].astype(float)\n",
    "        bb = BB[d]\n",
    "        # 设置一个负无穷\n",
    "        ovmax = -np.inf\n",
    "        # BBGT是真实的坐标\n",
    "        BBGT = R['bbox'].astype(float)\n",
    "        \n",
    "        if BBGT.size > 0:\n",
    "            ixmin = np.maximum(BBGT[:, 0], bb[0])\n",
    "            iymin = np.maximum(BBGT[:, 1], bb[1])\n",
    "            ixmax = np.minimum(BBGT[:, 2], bb[2])\n",
    "            iymax = np.minimum(BBGT[:, 3], bb[3])\n",
    "            iw = np.maximum(ixmax - ixmin + 1., 0.)\n",
    "            ih = np.maximum(iymax - iymin + 1., 0.)\n",
    "            # 计算重叠区域的面积\n",
    "            inters = iw * ih\n",
    "            \n",
    "            # union\n",
    "            # 并集面积就是两个区域的面积减去重叠区域的面积\n",
    "            uni = ((bb[2] - bb[0] + 1.) * (bb[3] - bb[1] + 1.) +\n",
    "                       (BBGT[:, 2] - BBGT[:, 0] + 1.) *\n",
    "                       (BBGT[:, 3] - BBGT[:, 1] + 1.) - inters)\n",
    "            # 计算IOU，注意这个overlaps不一定是一个数值，可能是一个列表的,所有后面才有np.max和np.argmax\n",
    "            overlaps = inters / uni\n",
    "            # 保留最大的IOU\n",
    "            ovmax = np.max(overlaps)\n",
    "            # 保留最大IOU的下标\n",
    "            jmax = np.argmax(overlaps)\n",
    "            \n",
    "        if ovmax > ovthresh:  # 这个阙值默认0.5\n",
    "            if not R['difficult'][jmax]:  # 这个后面是不是少个else，如果是难测样本呢？？\n",
    "                # R = class_recs[image_ids[d]]\n",
    "                if not R['det'][jmax]:  # R['det']初始值全为False,意思应该是如果该位置第一次使用，才可以。那也会出现tp[d]=fp[d]=1的情况啊\n",
    "                    # 下面都是标记\n",
    "                    tp[d] = 1.\n",
    "                    R['det'][jmax] = 1\n",
    "                else:\n",
    "                    fp[d] = 1.\n",
    "        else:\n",
    "            fp[d] = 1.\n"
   ]
  },
  {
   "cell_type": "code",
   "execution_count": 59,
   "metadata": {
    "collapsed": true
   },
   "outputs": [],
   "source": [
    "use_07_metric=False"
   ]
  },
  {
   "cell_type": "code",
   "execution_count": 60,
   "metadata": {},
   "outputs": [],
   "source": [
    "fp = np.cumsum(fp)\n",
    "tp = np.cumsum(tp)\n",
    "rec = tp / float(npos)\n",
    "# avoid divide by zero in case the first detection matches a difficult\n",
    "# ground truth\n",
    "prec = tp / np.maximum(tp + fp, np.finfo(np.float64).eps)\n",
    "ap = voc_ap(rec, prec, use_07_metric)\n"
   ]
  },
  {
   "cell_type": "code",
   "execution_count": 61,
   "metadata": {},
   "outputs": [
    {
     "data": {
      "text/plain": [
       "(array([0.04545455, 0.09090909, 0.13636364, 0.18181818, 0.22727273,\n",
       "        0.27272727, 0.31818182, 0.36363636, 0.40909091, 0.45454545,\n",
       "        0.5       , 0.54545455, 0.59090909, 0.63636364, 0.68181818,\n",
       "        0.72727273, 0.77272727, 0.81818182, 0.86363636, 0.90909091,\n",
       "        0.95454545, 1.        ]),\n",
       " array([1., 1., 1., 1., 1., 1., 1., 1., 1., 1., 1., 1., 1., 1., 1., 1., 1.,\n",
       "        1., 1., 1., 1., 1.]),\n",
       " 1.0)"
      ]
     },
     "execution_count": 61,
     "metadata": {},
     "output_type": "execute_result"
    }
   ],
   "source": [
    "rec, prec, ap"
   ]
  },
  {
   "cell_type": "code",
   "execution_count": null,
   "metadata": {
    "collapsed": true
   },
   "outputs": [],
   "source": []
  },
  {
   "cell_type": "code",
   "execution_count": null,
   "metadata": {
    "collapsed": true
   },
   "outputs": [],
   "source": []
  },
  {
   "cell_type": "code",
   "execution_count": null,
   "metadata": {
    "collapsed": true
   },
   "outputs": [],
   "source": []
  },
  {
   "cell_type": "code",
   "execution_count": null,
   "metadata": {
    "collapsed": true
   },
   "outputs": [],
   "source": []
  },
  {
   "cell_type": "code",
   "execution_count": 63,
   "metadata": {
    "collapsed": true
   },
   "outputs": [],
   "source": [
    "import matplotlib.pyplot as plt\n",
    "%matplotlib inline"
   ]
  },
  {
   "cell_type": "code",
   "execution_count": 69,
   "metadata": {
    "collapsed": true
   },
   "outputs": [],
   "source": [
    "x=['0.04545455', '0.09090909', '0.13636364', '0.18181818', '0.22727273',\n",
    "        '0.27272727', '0.31818182', '0.36363636', '0.40909091', '0.45454545',\n",
    "        '0.5 '      , '0.54545455', '0.59090909', '0.63636364', '0.68181818',\n",
    "        '0.72727273', '0.77272727', '0.81818182', '0.86363636',' 0.90909091',\n",
    "        '0.95454545', '1.'        ]\n",
    "y1=['1.', '1.', '1.', '1.', '1.', '1.', '1.', '1.', '1.', '1.', '1.', '1.', '1.', '1.', '1', '1.', '1.',\n",
    "        '1.', '1.', '1.', '1.', '1.']\n",
    "\n"
   ]
  },
  {
   "cell_type": "code",
   "execution_count": 72,
   "metadata": {},
   "outputs": [
    {
     "data": {
      "image/png": "[encoded data removed]",
      "text/plain": [
       "<matplotlib.figure.Figure at 0x25316944e10>"
      ]
     },
     "metadata": {},
     "output_type": "display_data"
    }
   ],
   "source": [
    "fig = plt.figure(figsize= (18,8) )\n",
    "plt.plot(x,y1,lw=2,c='b',alpha=1,label='房間mAP:'+str(ap))\n",
    "plt.gcf().set_facecolor(np.ones(3)* 240 / 255)   # 生成画布的大小\n",
    "plt.grid()  # 生成网格\n",
    "plt.xlim(0,1.1)\n",
    "plt.ylim(0,1.1)\n",
    "ax = plt.gca()\n",
    "ax.set_title('房間', fontsize='20')\n",
    "plt.legend(fontsize = 14,loc='lower right')\n",
    "plt.show()"
   ]
  },
  {
   "cell_type": "code",
   "execution_count": null,
   "metadata": {
    "collapsed": true
   },
   "outputs": [],
   "source": []
  }
 ],
 "metadata": {
  "kernelspec": {
   "display_name": "Python 3",
   "language": "python",
   "name": "python3"
  },
  "language_info": {
   "codemirror_mode": {
    "name": "ipython",
    "version": 3
   },
   "file_extension": ".py",
   "mimetype": "text/x-python",
   "name": "python",
   "nbconvert_exporter": "python",
   "pygments_lexer": "ipython3",
   "version": "3.7.7"
  }
 },
 "nbformat": 4,
 "nbformat_minor": 2
}
